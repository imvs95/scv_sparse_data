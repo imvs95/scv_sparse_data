{
 "cells": [
  {
   "cell_type": "code",
   "execution_count": 1,
   "metadata": {
    "ExecuteTime": {
     "end_time": "2022-10-13T12:47:40.745190Z",
     "start_time": "2022-10-13T12:47:06.736113Z"
    }
   },
   "outputs": [],
   "source": [
    "import sys\n",
    "#sys.path.append('\\\\paper_1_supply_chain_visibility')\n",
    "\n",
    "import pandas as pd\n",
    "import numpy as np\n",
    "import random\n",
    "import math\n",
    "import matplotlib.pyplot as plt\n",
    "from collections import defaultdict\n",
    "import scipy.stats as st\n",
    "\n",
    "from calculate_scv import calculate_supply_chain_visibility, create_bias_df, Node, normalize\n",
    "from degrade_data.noise_data import assign_noise\n",
    "from degrade_data.bias_data import sample_bias\n",
    "from degrade_data.missing_data import delete_values_completely_random\n",
    "\n",
    "\n",
    "import warnings\n",
    "warnings.filterwarnings(\"ignore\")"
   ]
  },
  {
   "cell_type": "code",
   "execution_count": 2,
   "metadata": {
    "ExecuteTime": {
     "end_time": "2022-10-13T12:47:42.475578Z",
     "start_time": "2022-10-13T12:47:42.445566Z"
    }
   },
   "outputs": [],
   "source": [
    "df_in = pd.read_csv(\"C:/Users/IvS/Git/toy_model/data/20221005_GT_TimeSeries_ManufacturingTime2.5_Runtime364.csv\")\n",
    "df = df_in.set_index(\"Time\")\n",
    "df = df_in.set_index(\"Time\")\n",
    "df_truemodel = df.groupby([\"Time\"]).mean().iloc[:, 1:-1]\n",
    "df_truemodel.iloc[0,0] = 0 #set only value of supplier on 0"
   ]
  },
  {
   "cell_type": "markdown",
   "metadata": {},
   "source": [
    "# Degrade data based on Scenario"
   ]
  },
  {
   "cell_type": "markdown",
   "metadata": {},
   "source": [
    "Add 25% bias for the total dataframe"
   ]
  },
  {
   "cell_type": "code",
   "execution_count": 102,
   "metadata": {
    "ExecuteTime": {
     "end_time": "2022-10-06T08:35:44.285788Z",
     "start_time": "2022-10-06T08:35:44.261237Z"
    }
   },
   "outputs": [],
   "source": [
    "bias_df = create_bias_df(df_truemodel, 0.25, seed=1)"
   ]
  },
  {
   "cell_type": "markdown",
   "metadata": {},
   "source": [
    "Add noise based on scenario to the dataframe\n",
    "* Bad actors: 95%\n",
    "* General actors: 10%"
   ]
  },
  {
   "cell_type": "code",
   "execution_count": 104,
   "metadata": {
    "ExecuteTime": {
     "end_time": "2022-10-06T08:35:44.768377Z",
     "start_time": "2022-10-06T08:35:44.760403Z"
    }
   },
   "outputs": [],
   "source": [
    "actors = list(df_truemodel.columns)"
   ]
  },
  {
   "cell_type": "code",
   "execution_count": 105,
   "metadata": {
    "ExecuteTime": {
     "end_time": "2022-10-06T08:35:44.970872Z",
     "start_time": "2022-10-06T08:35:44.956550Z"
    }
   },
   "outputs": [],
   "source": [
    "scenario_manufacturer_2_bad = [0.1, 0.1, 0.95, 0.1, 0.1, 0.1, 0.1, 0.1, 0.1, 0.1, 0.1]\n",
    "scenario_transit_bad = [0.1, 0.1, 0.1, 0.1, 0.95, 0.1, 0.1, 0.1, 0.1, 0.1, 0.1]\n",
    "\n",
    "scenario_supply_vision = [0.1, 0.2, 0.2, 0.3, 0.4, 0.5, 0.5, 0.7, 0.8, 0.8, 0.8]\n",
    "scenario_demand_vision = [0.8, 0.7, 0.7, 0.5, 0.4, 0.3, 0.3, 0.2, 0.1, 0.1, 0.1]"
   ]
  },
  {
   "cell_type": "code",
   "execution_count": 106,
   "metadata": {
    "ExecuteTime": {
     "end_time": "2022-10-06T08:35:45.156051Z",
     "start_time": "2022-10-06T08:35:45.138098Z"
    }
   },
   "outputs": [],
   "source": [
    "noise_bias_df = bias_df.copy()"
   ]
  },
  {
   "cell_type": "code",
   "execution_count": 107,
   "metadata": {
    "ExecuteTime": {
     "end_time": "2022-10-06T08:35:45.376228Z",
     "start_time": "2022-10-06T08:35:45.308286Z"
    }
   },
   "outputs": [],
   "source": [
    "for actor, perc in zip(actors, scenario_manufacturer_2_bad):\n",
    "    noise_bias_df[actor] = assign_noise(perc, bias_df[[actor]])"
   ]
  },
  {
   "cell_type": "markdown",
   "metadata": {},
   "source": [
    "Add missing values\n",
    "* Bad actors: 95%\n",
    "* General actors: 25%"
   ]
  },
  {
   "cell_type": "code",
   "execution_count": 109,
   "metadata": {
    "ExecuteTime": {
     "end_time": "2022-10-06T08:35:46.047551Z",
     "start_time": "2022-10-06T08:35:46.036582Z"
    }
   },
   "outputs": [],
   "source": [
    "scenario_manufacturer_2_bad_mv = [0.25, 0.25, 0.95, 0.25, 0.25, 0.25, 0.25, 0.25, 0.25, 0.25, 0.25]\n",
    "scenario_transit_bad_mv = [0.25, 0.25, 0.25, 0.25, 0.95, 0.25, 0.25, 0.25, 0.25, 0.25, 0.25]\n",
    "\n",
    "scenario_supply_vision_mv = [0.25, 0.35, 0.35, 0.45, 0.55, 0.65, 0.65, 0.85, 0.95, 0.95, 0.95]\n",
    "scenario_demand_vision_mv = [0.95, 0.85, 0.85, 0.65, 0.55, 0.45, 0.45, 0.35, 0.25, 0.25, 0.25]"
   ]
  },
  {
   "cell_type": "code",
   "execution_count": 110,
   "metadata": {
    "ExecuteTime": {
     "end_time": "2022-10-06T08:35:46.233450Z",
     "start_time": "2022-10-06T08:35:46.229488Z"
    }
   },
   "outputs": [],
   "source": [
    "modified_df = noise_bias_df.copy()"
   ]
  },
  {
   "cell_type": "code",
   "execution_count": 111,
   "metadata": {
    "ExecuteTime": {
     "end_time": "2022-10-06T08:35:46.452900Z",
     "start_time": "2022-10-06T08:35:46.385394Z"
    }
   },
   "outputs": [],
   "source": [
    "for actor, perc in zip(actors, scenario_manufacturer_2_bad_mv):\n",
    "    modified_df[actor] = delete_values_completely_random(perc, noise_bias_df[[actor]])"
   ]
  },
  {
   "cell_type": "code",
   "execution_count": 112,
   "metadata": {
    "ExecuteTime": {
     "end_time": "2022-10-06T08:35:46.577108Z",
     "start_time": "2022-10-06T08:35:46.541955Z"
    }
   },
   "outputs": [
    {
     "data": {
      "text/html": [
       "<div>\n",
       "<style scoped>\n",
       "    .dataframe tbody tr th:only-of-type {\n",
       "        vertical-align: middle;\n",
       "    }\n",
       "\n",
       "    .dataframe tbody tr th {\n",
       "        vertical-align: top;\n",
       "    }\n",
       "\n",
       "    .dataframe thead th {\n",
       "        text-align: right;\n",
       "    }\n",
       "</style>\n",
       "<table border=\"1\" class=\"dataframe\">\n",
       "  <thead>\n",
       "    <tr style=\"text-align: right;\">\n",
       "      <th></th>\n",
       "      <th>Supplier</th>\n",
       "      <th>Manufacturer</th>\n",
       "      <th>Manufacturer_2</th>\n",
       "      <th>Export_Port</th>\n",
       "      <th>Transit_Port</th>\n",
       "      <th>Import_Port_Rotterdam</th>\n",
       "      <th>Import_Port_Antwerpen</th>\n",
       "      <th>Wholesales_Distributor</th>\n",
       "      <th>Retailer_Amsterdam</th>\n",
       "      <th>Retailer_Utrecht</th>\n",
       "      <th>Retailer_Venlo</th>\n",
       "    </tr>\n",
       "  </thead>\n",
       "  <tbody>\n",
       "    <tr>\n",
       "      <th>0.0</th>\n",
       "      <td>0.0</td>\n",
       "      <td>554.500000</td>\n",
       "      <td>NaN</td>\n",
       "      <td>7016.400000</td>\n",
       "      <td>603.40</td>\n",
       "      <td>113.95</td>\n",
       "      <td>117.85</td>\n",
       "      <td>77.70</td>\n",
       "      <td>3.066667</td>\n",
       "      <td>0.000000</td>\n",
       "      <td>NaN</td>\n",
       "    </tr>\n",
       "    <tr>\n",
       "      <th>1.0</th>\n",
       "      <td>NaN</td>\n",
       "      <td>117.550000</td>\n",
       "      <td>NaN</td>\n",
       "      <td>0.000000</td>\n",
       "      <td>0.00</td>\n",
       "      <td>0.00</td>\n",
       "      <td>0.00</td>\n",
       "      <td>0.00</td>\n",
       "      <td>0.000000</td>\n",
       "      <td>NaN</td>\n",
       "      <td>0.00</td>\n",
       "    </tr>\n",
       "    <tr>\n",
       "      <th>2.0</th>\n",
       "      <td>0.0</td>\n",
       "      <td>NaN</td>\n",
       "      <td>NaN</td>\n",
       "      <td>10.700000</td>\n",
       "      <td>0.00</td>\n",
       "      <td>0.00</td>\n",
       "      <td>0.00</td>\n",
       "      <td>NaN</td>\n",
       "      <td>0.000000</td>\n",
       "      <td>0.000000</td>\n",
       "      <td>0.00</td>\n",
       "    </tr>\n",
       "    <tr>\n",
       "      <th>3.0</th>\n",
       "      <td>0.0</td>\n",
       "      <td>147.450000</td>\n",
       "      <td>85.808022</td>\n",
       "      <td>NaN</td>\n",
       "      <td>0.00</td>\n",
       "      <td>NaN</td>\n",
       "      <td>0.00</td>\n",
       "      <td>0.00</td>\n",
       "      <td>NaN</td>\n",
       "      <td>0.000000</td>\n",
       "      <td>0.00</td>\n",
       "    </tr>\n",
       "    <tr>\n",
       "      <th>4.0</th>\n",
       "      <td>NaN</td>\n",
       "      <td>147.500000</td>\n",
       "      <td>NaN</td>\n",
       "      <td>161.600000</td>\n",
       "      <td>0.00</td>\n",
       "      <td>NaN</td>\n",
       "      <td>0.00</td>\n",
       "      <td>NaN</td>\n",
       "      <td>0.000000</td>\n",
       "      <td>0.000000</td>\n",
       "      <td>0.00</td>\n",
       "    </tr>\n",
       "    <tr>\n",
       "      <th>...</th>\n",
       "      <td>...</td>\n",
       "      <td>...</td>\n",
       "      <td>...</td>\n",
       "      <td>...</td>\n",
       "      <td>...</td>\n",
       "      <td>...</td>\n",
       "      <td>...</td>\n",
       "      <td>...</td>\n",
       "      <td>...</td>\n",
       "      <td>...</td>\n",
       "      <td>...</td>\n",
       "    </tr>\n",
       "    <tr>\n",
       "      <th>360.0</th>\n",
       "      <td>NaN</td>\n",
       "      <td>676.550000</td>\n",
       "      <td>NaN</td>\n",
       "      <td>21180.700000</td>\n",
       "      <td>1176.10</td>\n",
       "      <td>128.35</td>\n",
       "      <td>133.10</td>\n",
       "      <td>48.30</td>\n",
       "      <td>2.883333</td>\n",
       "      <td>2.883333</td>\n",
       "      <td>NaN</td>\n",
       "    </tr>\n",
       "    <tr>\n",
       "      <th>361.0</th>\n",
       "      <td>NaN</td>\n",
       "      <td>689.350000</td>\n",
       "      <td>NaN</td>\n",
       "      <td>NaN</td>\n",
       "      <td>1097.05</td>\n",
       "      <td>NaN</td>\n",
       "      <td>113.10</td>\n",
       "      <td>47.85</td>\n",
       "      <td>NaN</td>\n",
       "      <td>NaN</td>\n",
       "      <td>5.70</td>\n",
       "    </tr>\n",
       "    <tr>\n",
       "      <th>362.0</th>\n",
       "      <td>NaN</td>\n",
       "      <td>660.050000</td>\n",
       "      <td>NaN</td>\n",
       "      <td>52380.320078</td>\n",
       "      <td>NaN</td>\n",
       "      <td>162.05</td>\n",
       "      <td>111.10</td>\n",
       "      <td>NaN</td>\n",
       "      <td>3.416667</td>\n",
       "      <td>5.750000</td>\n",
       "      <td>0.00</td>\n",
       "    </tr>\n",
       "    <tr>\n",
       "      <th>363.0</th>\n",
       "      <td>0.0</td>\n",
       "      <td>619.350000</td>\n",
       "      <td>NaN</td>\n",
       "      <td>21363.200000</td>\n",
       "      <td>1203.95</td>\n",
       "      <td>143.10</td>\n",
       "      <td>119.35</td>\n",
       "      <td>NaN</td>\n",
       "      <td>NaN</td>\n",
       "      <td>10.816667</td>\n",
       "      <td>6.65</td>\n",
       "    </tr>\n",
       "    <tr>\n",
       "      <th>364.0</th>\n",
       "      <td>0.0</td>\n",
       "      <td>1146.688416</td>\n",
       "      <td>NaN</td>\n",
       "      <td>NaN</td>\n",
       "      <td>1248.05</td>\n",
       "      <td>118.30</td>\n",
       "      <td>NaN</td>\n",
       "      <td>59.10</td>\n",
       "      <td>3.500000</td>\n",
       "      <td>NaN</td>\n",
       "      <td>0.00</td>\n",
       "    </tr>\n",
       "  </tbody>\n",
       "</table>\n",
       "<p>365 rows × 11 columns</p>\n",
       "</div>"
      ],
      "text/plain": [
       "       Supplier  Manufacturer  Manufacturer_2   Export_Port  Transit_Port  \\\n",
       "0.0         0.0    554.500000             NaN   7016.400000        603.40   \n",
       "1.0         NaN    117.550000             NaN      0.000000          0.00   \n",
       "2.0         0.0           NaN             NaN     10.700000          0.00   \n",
       "3.0         0.0    147.450000       85.808022           NaN          0.00   \n",
       "4.0         NaN    147.500000             NaN    161.600000          0.00   \n",
       "...         ...           ...             ...           ...           ...   \n",
       "360.0       NaN    676.550000             NaN  21180.700000       1176.10   \n",
       "361.0       NaN    689.350000             NaN           NaN       1097.05   \n",
       "362.0       NaN    660.050000             NaN  52380.320078           NaN   \n",
       "363.0       0.0    619.350000             NaN  21363.200000       1203.95   \n",
       "364.0       0.0   1146.688416             NaN           NaN       1248.05   \n",
       "\n",
       "       Import_Port_Rotterdam  Import_Port_Antwerpen  Wholesales_Distributor  \\\n",
       "0.0                   113.95                 117.85                   77.70   \n",
       "1.0                     0.00                   0.00                    0.00   \n",
       "2.0                     0.00                   0.00                     NaN   \n",
       "3.0                      NaN                   0.00                    0.00   \n",
       "4.0                      NaN                   0.00                     NaN   \n",
       "...                      ...                    ...                     ...   \n",
       "360.0                 128.35                 133.10                   48.30   \n",
       "361.0                    NaN                 113.10                   47.85   \n",
       "362.0                 162.05                 111.10                     NaN   \n",
       "363.0                 143.10                 119.35                     NaN   \n",
       "364.0                 118.30                    NaN                   59.10   \n",
       "\n",
       "       Retailer_Amsterdam  Retailer_Utrecht  Retailer_Venlo  \n",
       "0.0              3.066667          0.000000             NaN  \n",
       "1.0              0.000000               NaN            0.00  \n",
       "2.0              0.000000          0.000000            0.00  \n",
       "3.0                   NaN          0.000000            0.00  \n",
       "4.0              0.000000          0.000000            0.00  \n",
       "...                   ...               ...             ...  \n",
       "360.0            2.883333          2.883333             NaN  \n",
       "361.0                 NaN               NaN            5.70  \n",
       "362.0            3.416667          5.750000            0.00  \n",
       "363.0                 NaN         10.816667            6.65  \n",
       "364.0            3.500000               NaN            0.00  \n",
       "\n",
       "[365 rows x 11 columns]"
      ]
     },
     "execution_count": 112,
     "metadata": {},
     "output_type": "execute_result"
    }
   ],
   "source": [
    "modified_df"
   ]
  },
  {
   "cell_type": "markdown",
   "metadata": {},
   "source": [
    "This is a general formula for degrading data for the scenarios as presented in the paper."
   ]
  },
  {
   "cell_type": "code",
   "execution_count": 6,
   "metadata": {
    "ExecuteTime": {
     "end_time": "2022-10-13T12:47:54.269913Z",
     "start_time": "2022-10-13T12:47:54.253739Z"
    }
   },
   "outputs": [],
   "source": [
    "def degrade_data(data_set, scenario_perc_noise, scenario_perc_missing, seed):\n",
    "    random.seed(seed)\n",
    "    np.random.seed(seed)\n",
    "    \n",
    "    #First, Bias\n",
    "    bias_df = create_bias_df(data_set, 0.25, seed=seed)\n",
    "    \n",
    "    #Second, Noise\n",
    "    actors = list(data_set.columns)\n",
    "    noise_bias_df = bias_df.copy()\n",
    "    for actor, perc in zip(actors, scenario_perc_noise):\n",
    "        noise_bias_df[actor] = assign_noise(perc, bias_df[[actor]])\n",
    "        \n",
    "    #Third, Missing Values\n",
    "    modified_df = noise_bias_df.copy()\n",
    "    for actor, perc in zip(actors, scenario_perc_missing):\n",
    "        modified_df[actor] = delete_values_completely_random(perc, noise_bias_df[[actor]])\n",
    "    \n",
    "    return modified_df"
   ]
  },
  {
   "cell_type": "markdown",
   "metadata": {},
   "source": [
    "# Calculate Supply Chain Visibility for Scenarios\n",
    "With 200 seeds"
   ]
  },
  {
   "cell_type": "code",
   "execution_count": 7,
   "metadata": {
    "ExecuteTime": {
     "end_time": "2022-10-13T12:47:54.859349Z",
     "start_time": "2022-10-13T12:47:54.844794Z"
    }
   },
   "outputs": [],
   "source": [
    "def calculate_scv_scenarios(data_set, df_degrade_data, names_nodes, levels_nodes, seed=2):\n",
    "    nodes = []\n",
    "    for name, level in zip(names_nodes, levels_nodes):\n",
    "        node = Node(data_set, df_degrade_data, name, level)\n",
    "        nodes.append(node)\n",
    "        #print(node.name, \"quality\", node.quality, \"quantity\", node.quantity)\n",
    "\n",
    "    #Determine weights\n",
    "    inventory_nodes = [node.average_inventory for node in nodes]\n",
    "    #Normalize to ensure that it sums up to 1\n",
    "    norm_weights = normalize(inventory_nodes)\n",
    "\n",
    "    scv_weight_inventory = sum([node.scv*weight for node, weight in zip(nodes, norm_weights)])\n",
    "\n",
    "    #print(\"Global supply chain visibility is \", scv_weight_inventory, \"%\")\n",
    "\n",
    "    return scv_weight_inventory, nodes\n"
   ]
  },
  {
   "cell_type": "code",
   "execution_count": 1,
   "metadata": {
    "ExecuteTime": {
     "end_time": "2024-07-10T08:06:16.335953Z",
     "start_time": "2024-07-10T08:06:16.305995Z"
    }
   },
   "outputs": [],
   "source": [
    "#Define scenarios\n",
    "scenario_manufacturer_2_bad_noise = [0.1, 0.1, 0.95, 0.1, 0.1, 0.1, 0.1, 0.1, 0.1, 0.1, 0.1]\n",
    "scenario_transit_bad_noise = [0.1, 0.1, 0.1, 0.1, 0.95, 0.1, 0.1, 0.1, 0.1, 0.1, 0.1]\n",
    "\n",
    "scenario_supply_vision_noise = [0.1, 0.2, 0.2, 0.3, 0.4, 0.5, 0.5, 0.7, 0.8, 0.8, 0.8]\n",
    "scenario_demand_vision_noise = [0.8, 0.7, 0.7, 0.5, 0.4, 0.3, 0.3, 0.2, 0.1, 0.1, 0.1]\n",
    "\n",
    "scenario_manufacturer_2_bad_mv = [0.25, 0.25, 0.95, 0.25, 0.25, 0.25, 0.25, 0.25, 0.25, 0.25, 0.25]\n",
    "scenario_transit_bad_mv = [0.25, 0.25, 0.25, 0.25, 0.95, 0.25, 0.25, 0.25, 0.25, 0.25, 0.25]\n",
    "\n",
    "scenario_supply_vision_mv = [0.25, 0.35, 0.35, 0.45, 0.55, 0.65, 0.65, 0.85, 0.95, 0.95, 0.95]\n",
    "scenario_demand_vision_mv = [0.95, 0.85, 0.85, 0.65, 0.55, 0.45, 0.45, 0.35, 0.25, 0.25, 0.25]"
   ]
  },
  {
   "cell_type": "code",
   "execution_count": 9,
   "metadata": {
    "ExecuteTime": {
     "end_time": "2022-10-13T12:49:14.420048Z",
     "start_time": "2022-10-13T12:47:56.317146Z"
    }
   },
   "outputs": [
    {
     "name": "stdout",
     "output_type": "stream",
     "text": [
      "Mean Global SCV 72.88737814905642\n",
      "Mean Global SCV 71.87704417639418\n",
      "Mean Global SCV 58.500732028546594\n",
      "Mean Global SCV 40.583726071338\n"
     ]
    }
   ],
   "source": [
    "names_supplychain = list(df_truemodel.columns)\n",
    "levels = [1, 2, 2, 3, 4, 5, 5, 6, 7, 7, 7]\n",
    "\n",
    "\n",
    "scenarios = [(scenario_manufacturer_2_bad_noise, scenario_manufacturer_2_bad_mv),\n",
    "            (scenario_transit_bad_noise, scenario_transit_bad_mv),\n",
    "            (scenario_supply_vision_noise, scenario_supply_vision_mv),\n",
    "            (scenario_demand_vision_noise, scenario_demand_vision_mv )]\n",
    "names_scenarios = [\"manufacturer_2_bad\", \"transit_bad\", \"supply_vision\", \"demand_vision\"]\n",
    "results_dim = {}\n",
    "\n",
    "for scen, name in zip(scenarios, names_scenarios):\n",
    "    results_dim[name] = {}\n",
    "    \n",
    "    seed_global_scv = []\n",
    "    results = defaultdict()\n",
    "        \n",
    "    for i in range(1,201):\n",
    "        degrade_df = degrade_data(df_truemodel, scen[0], \n",
    "                                      scen[1], seed = i)\n",
    "        global_scv, nodes = calculate_scv_scenarios(df_truemodel, degrade_df, names_supplychain, levels, seed=i)\n",
    "        seed_global_scv.append(global_scv)\n",
    "        results_seed = {\"global_scv\": global_scv,\n",
    "                        \"nodes\": nodes}\n",
    "        results[i] = results_seed\n",
    "        seed_global_scv.append(global_scv)\n",
    "        \n",
    "    results[\"list_scv_per_seed\"] = seed_global_scv\n",
    "    results[\"mean_global_scv\"] = np.mean(seed_global_scv)\n",
    "\n",
    "    results_dim[name] = results\n",
    "#         print(seed_global_scv)\n",
    "    print(\"Mean Global SCV\", np.mean(seed_global_scv))\n",
    "\n"
   ]
  },
  {
   "cell_type": "markdown",
   "metadata": {},
   "source": [
    "# Boxplot"
   ]
  },
  {
   "cell_type": "code",
   "execution_count": 13,
   "metadata": {
    "ExecuteTime": {
     "end_time": "2022-10-13T12:52:18.239597Z",
     "start_time": "2022-10-13T12:52:18.224347Z"
    }
   },
   "outputs": [],
   "source": [
    "from matplotlib.cbook import boxplot_stats"
   ]
  },
  {
   "cell_type": "code",
   "execution_count": 36,
   "metadata": {
    "ExecuteTime": {
     "end_time": "2022-10-13T12:59:42.973735Z",
     "start_time": "2022-10-13T12:59:42.789059Z"
    },
    "scrolled": false
   },
   "outputs": [
    {
     "name": "stdout",
     "output_type": "stream",
     "text": [
      "        mean       iqr       cilo       cihi     whishi     whislo  \\\n",
      "0  72.887378  1.339607  72.808473  73.018791  75.354009  70.454432   \n",
      "1  71.877044  1.366321  71.702883  71.917395  74.476112  69.349926   \n",
      "2  58.500732  2.016728  58.405044  58.721670  62.440186  54.609895   \n",
      "3  40.583726  3.033213  40.562422  41.038637  45.837535  34.748804   \n",
      "\n",
      "                                              fliers         q1        med  \\\n",
      "0  [70.25445442409267, 70.25445442409267, 68.7258...  72.283260  72.913632   \n",
      "1  [68.89929083328143, 68.89929083328143, 68.4714...  71.279006  71.810139   \n",
      "2  [54.44167318878297, 54.44167318878297, 54.2890...  57.607755  58.563357   \n",
      "3  [33.2143133035649, 33.2143133035649, 33.783090...  39.192610  40.800529   \n",
      "\n",
      "          q3    min_max     q3_q1  steps_decrease  \n",
      "0  73.622867   4.899577  1.339607             NaN  \n",
      "1  72.645327   5.126186  1.366321        1.103493  \n",
      "2  59.624484   7.830291  2.016728       13.246782  \n",
      "3  42.225823  11.088731  3.033213       17.762828  \n"
     ]
    },
    {
     "data": {
      "image/png": "[encoded data removed]",
      "text/plain": [
       "<Figure size 720x360 with 1 Axes>"
      ]
     },
     "metadata": {
      "needs_background": "light"
     },
     "output_type": "display_data"
    }
   ],
   "source": [
    "colors=[\"gray\", \"darkblue\", \"deepskyblue\", \"purple\"]\n",
    "data_sparse_perc = [\"Competitor\" \"\\n\" \"Manufacturer\", \"Key Actor\" \"\\n\" \"Transit\", \"Supply-Oriented\", \"Demand-Oriented\"]\n",
    "ticks = [1,2,3,4]\n",
    "plt.figure(figsize=(10,5))\n",
    "plt.grid()\n",
    "    \n",
    "outcome_seeds = [v[\"list_scv_per_seed\"] for k,v in results_dim.items()]\n",
    "list_mean = [np.mean(v[\"list_scv_per_seed\"]) for k,v in results_dim.items()]\n",
    "list_std = [np.std(j) for j in outcome_seeds]\n",
    "    \n",
    "plt.title(\"Scenarios\", fontsize = 18)\n",
    "    #plt.boxplot(outcome_seeds, medianprops=dict(color=col))\n",
    "plt.boxplot(outcome_seeds, medianprops=dict(color=\"black\")) #color = black\n",
    "stats = pd.DataFrame(boxplot_stats(outcome_seeds))\n",
    "stats[\"min_max\"] = stats[\"whishi\"] - stats[\"whislo\"]\n",
    "stats[\"q3_q1\"] = stats[\"q3\"] - stats[\"q1\"]\n",
    "stats[\"steps_decrease\"] = stats[\"med\"].shift(1) - stats[\"med\"]\n",
    "print(stats)\n",
    "#plt.plot(list(range(1, len(median)+1)), median)\n",
    "\n",
    "    #Adds the scatter\n",
    "# for i in range(len(outcome_seeds)):\n",
    "#     y_scatter = outcome_seeds[i]\n",
    "#     x_scatter = np.random.normal(i + 1, 0.04, len(y_scatter))\n",
    "#     plt.scatter(x_scatter, y_scatter, color=col, alpha=0.1)\n",
    "    \n",
    "plt.ylabel(\"Supply Chain Visibility [%]\", fontsize = 14)\n",
    "plt.xticks(ticks, data_sparse_perc, fontsize=12)\n",
    "plt.yticks(fontsize=12)\n",
    "plt.ylim((0,105))\n",
    "plt.show()"
   ]
  },
  {
   "cell_type": "markdown",
   "metadata": {},
   "source": [
    "We see that with demand-oriented scenario, meaning the retailer see more of what's happening close to them and less of the supply side, that supply chain visibility is lower than with supply-oriented scenario (suppliers see what's happening close to them and less on the demand side). This is interesting as more actors are involved in the demand side than on the supply side, meaning in total there are more datapoints in the system. However, this does not contribute that much to the global supply chain visibility, since probably more inventory is based at the supply side. We calculate the weight of each actor in the global supply chain visibility on the average inventory of this actor. This could be the reason why supply chain visibility is low on the demand side -- but this is close to real life.\n",
    "\n",
    "For the difference between one competitor and the transit port (a key actor in the supply chain), little difference in the effect on supply chain visibility holds. Expected is that less data provided by the key actor would cause propogated lower supply chain visibility, but it looks like this is not the case. This has to do with the way we calculate supply chain visibility."
   ]
  },
  {
   "cell_type": "markdown",
   "metadata": {},
   "source": [
    "# Plot Supply Chain Visibility per Actor"
   ]
  },
  {
   "cell_type": "code",
   "execution_count": 20,
   "metadata": {
    "ExecuteTime": {
     "end_time": "2022-10-13T12:53:04.264176Z",
     "start_time": "2022-10-13T12:53:04.234752Z"
    }
   },
   "outputs": [],
   "source": [
    "#To scenario - node\n",
    "dict_scenario_nodes = defaultdict()\n",
    "for scen, seed_dict in results_dim.items():\n",
    "    dict_nodes = defaultdict(list)\n",
    "    dict_scenario_nodes[scen] = dict_nodes\n",
    "        \n",
    "    for seed, results in seed_dict.items():\n",
    "        try:\n",
    "            all_nodes = results[\"nodes\"]\n",
    "            for i in range(len(all_nodes)):\n",
    "                dict_nodes[i].append(all_nodes[i])\n",
    "            #for general keys\n",
    "        except (TypeError, IndexError):\n",
    "            continue\n",
    "                "
   ]
  },
  {
   "cell_type": "code",
   "execution_count": 21,
   "metadata": {
    "ExecuteTime": {
     "end_time": "2022-10-13T12:53:04.635676Z",
     "start_time": "2022-10-13T12:53:04.618580Z"
    }
   },
   "outputs": [],
   "source": [
    "#To scenario - scv\n",
    "dim_scen_node_scv = {}\n",
    "for scen, nodes in dict_scenario_nodes.items():\n",
    "    node_scv = {}\n",
    "    for node, all_nodes in nodes.items():\n",
    "        name = all_nodes[0].name\n",
    "        node_scv[name] = [max(0, i.scv) for i in all_nodes]\n",
    "    dim_scen_node_scv[scen] = node_scv"
   ]
  },
  {
   "cell_type": "code",
   "execution_count": 22,
   "metadata": {
    "ExecuteTime": {
     "end_time": "2022-10-13T12:53:05.522995Z",
     "start_time": "2022-10-13T12:53:04.992147Z"
    }
   },
   "outputs": [
    {
     "name": "stdout",
     "output_type": "stream",
     "text": [
      "[86.64207589311613, 80.21884380377038, 9.408374711054968, 75.33859643370481, 78.44848279082026, 77.93991884695673, 77.93893505202449, 77.46800863337813, 69.48823716130094, 83.19174509834843, 83.26327579263034]\n",
      "[86.64207589311613, 80.22025340198793, 80.8114014849267, 75.33600911099211, 9.036172922156723, 77.80853491800588, 78.04003296466573, 77.5033485211168, 69.48316006728463, 83.21202817433519, 83.21861095226808]\n",
      "[86.64207589311613, 71.1289321193867, 71.74509993283164, 58.18757620822259, 52.05356026813022, 42.41804428704205, 42.59213636139002, 23.544178917372783, 7.928175915837679, 12.422719066247785, 12.936447556886371]\n",
      "[22.20699630592816, 24.63483011504512, 24.76915147806893, 40.83861653859974, 51.89456700013705, 60.29346772674843, 60.40234543308807, 68.55851605638027, 69.6442159199614, 83.25516262011038, 83.225954390841]\n"
     ]
    },
    {
     "data": {
      "text/plain": [
       "([0, 1, 2, 3, 4, 5, 6, 7, 8, 9, 10], <a list of 11 Text xticklabel objects>)"
      ]
     },
     "execution_count": 22,
     "metadata": {},
     "output_type": "execute_result"
    },
    {
     "data": {
      "image/png": "[encoded data removed]",
      "text/plain": [
       "<Figure size 720x360 with 1 Axes>"
      ]
     },
     "metadata": {
      "needs_background": "light"
     },
     "output_type": "display_data"
    }
   ],
   "source": [
    "plt.figure(figsize=(10,5))\n",
    "plt.grid()\n",
    "\n",
    "\n",
    "colors=[\"gray\", \"darkblue\", \"deepskyblue\", \"purple\"]\n",
    "scenario_name = [\"Competitor\", \"Key Actor\", \"Supply-Oriented\", \"Demand-Oriented\"]\n",
    "for (scen, col, name) in zip(dim_scen_node_scv.keys(), colors, scenario_name):\n",
    "    x = [node for node in dim_scen_node_scv[scen].keys()]\n",
    "    y = [np.mean(scv) for node, scv in dim_scen_node_scv[scen].items()]\n",
    "    print(y)\n",
    "    plt.scatter(x,y, color=col, label=name)\n",
    "    #plt.plot(x,y,color=col)\n",
    "    \n",
    "    \n",
    "plt.legend(bbox_to_anchor=(1.04,1), loc=\"upper left\", fontsize=15)\n",
    "plt.ylabel(\"Supply Chain Visibility [%]\", fontsize = 17)\n",
    "plt.xticks(rotation=45)\n"
   ]
  },
  {
   "cell_type": "markdown",
   "metadata": {},
   "source": [
    "## Plot supply chain visibility per scenario and per actor"
   ]
  },
  {
   "cell_type": "code",
   "execution_count": 23,
   "metadata": {
    "ExecuteTime": {
     "end_time": "2022-10-13T12:53:05.554632Z",
     "start_time": "2022-10-13T12:53:05.531992Z"
    }
   },
   "outputs": [],
   "source": [
    "for scen, v in dim_scen_node_scv.items():\n",
    "    x = [node for node in dim_scen_node_scv[scen].keys()]\n",
    "    y = [np.mean(scv) for node, scv in dim_scen_node_scv[scen].items()]"
   ]
  },
  {
   "cell_type": "code",
   "execution_count": 25,
   "metadata": {
    "ExecuteTime": {
     "end_time": "2022-10-13T12:53:07.714938Z",
     "start_time": "2022-10-13T12:53:07.691916Z"
    }
   },
   "outputs": [],
   "source": [
    "outcome_seeds = [v[\"list_scv_per_seed\"] for k,v in results_dim.items()]\n",
    "mean = [np.mean(v[\"list_scv_per_seed\"]) for k,v in results_dim.items()]\n",
    "std = [np.std(j) for j in outcome_seeds]"
   ]
  },
  {
   "cell_type": "code",
   "execution_count": 89,
   "metadata": {
    "ExecuteTime": {
     "end_time": "2022-10-12T14:08:54.215428Z",
     "start_time": "2022-10-12T14:08:54.200196Z"
    }
   },
   "outputs": [],
   "source": [
    "outcome_seeds_scen = [node[n] for scen, node in dim_scen_node_scv.items()]"
   ]
  },
  {
   "cell_type": "code",
   "execution_count": 32,
   "metadata": {
    "ExecuteTime": {
     "end_time": "2022-10-13T12:55:28.767065Z",
     "start_time": "2022-10-13T12:55:28.464025Z"
    }
   },
   "outputs": [
    {
     "name": "stdout",
     "output_type": "stream",
     "text": [
      "[86.64207589311613, 86.64207589311613, 86.64207589311613, 22.20699630592816]\n",
      "Supplier [1, 1, 1, 1]\n",
      "[80.21884380377038, 80.22025340198793, 71.1289321193867, 24.63483011504512]\n",
      "Manufacturer [63.836924323945254, 62.994866986542775, 87.8615484589659, 231.6448100891897]\n",
      "[9.408374711054968, 80.8114014849267, 71.74509993283164, 24.76915147806893]\n",
      "Manufacturer_2 [349.9438524369971, 65.61925521831711, 89.71839535541051, 250.97029945542033]\n",
      "[75.33859643370481, 75.33600911099211, 58.18757620822259, 40.83861653859974]\n",
      "Export_Port [105.09965098756027, 106.77389110738886, 177.13641624194736, 230.8387439583825]\n",
      "[78.44848279082026, 9.036172922156723, 52.05356026813022, 51.89456700013705]\n",
      "Transit_Port [77.47911716851661, 402.3044238672387, 160.99986719143544, 161.16735402645617]\n",
      "[77.93991884695673, 77.80853491800588, 42.41804428704205, 60.29346772674843]\n",
      "Import_Port_Rotterdam [87.259804089706, 75.0131854360518, 202.9817275078969, 138.4025681189982]\n",
      "[77.93893505202449, 78.04003296466573, 42.59213636139002, 60.40234543308807]\n",
      "Import_Port_Antwerpen [84.75486393489291, 80.35761027295223, 201.37447755244722, 143.07377571701494]\n",
      "[77.46800863337813, 77.5033485211168, 23.544178917372783, 68.55851605638027]\n",
      "Wholesales_Distributor [83.58148438467197, 83.24456715026827, 245.5781752276934, 119.3710178974186]\n",
      "[69.48823716130094, 69.48316006728463, 7.928175915837679, 69.6442159199614]\n",
      "Retailer_Amsterdam [184.90020618788492, 206.3015539985571, 513.128492041988, 187.7145516023745]\n",
      "[83.19174509834843, 83.21202817433519, 12.422719066247785, 83.25516262011038]\n",
      "Retailer_Utrecht [83.98341188004963, 85.36531599500279, 399.4085536729731, 85.05724234957768]\n",
      "[83.26327579263034, 83.21861095226808, 12.936447556886371, 83.225954390841]\n",
      "Retailer_Venlo [87.085064080091, 80.8708088866183, 397.9582608649434, 87.71260483366063]\n"
     ]
    },
    {
     "data": {
      "text/plain": [
       "(array([  0.,  20.,  40.,  60.,  80., 100.]),\n",
       " <a list of 6 Text yticklabel objects>)"
      ]
     },
     "execution_count": 32,
     "metadata": {},
     "output_type": "execute_result"
    },
    {
     "data": {
      "image/png": "[encoded data removed]",
      "text/plain": [
       "<Figure size 720x360 with 1 Axes>"
      ]
     },
     "metadata": {
      "needs_background": "light"
     },
     "output_type": "display_data"
    }
   ],
   "source": [
    "plt.figure(figsize=(10,5))\n",
    "plt.grid()\n",
    "\n",
    "#colors=[\"gray\", \"darkblue\", \"deepskyblue\", \"purple\"]\n",
    "\n",
    "names_scenarios = [\"manufacturer_2_bad\", \"transit_bad\", \"supply_vision\", \"demand_vision\"]\n",
    "node_names = [node[0] for node in dim_scen_node_scv[names_scenarios[0]].items()]\n",
    "\n",
    "x =  [\"Competitor\" \"\\n\" \"Manufacturer\", \"Key Actor\" \"\\n\" \"Transit\", \"Supply-Oriented\", \"Demand-Oriented\"]\n",
    "colors = [\"tab:blue\", \"tab:orange\", \"tab:green\", \"tab:red\", \"tab:purple\", \"tab:brown\", \"tab:cyan\" , \"tab:gray\", \"tab:pink\", \"tab:olive\", \"black\"]\n",
    "\n",
    "for (n, col) in zip(node_names, colors):\n",
    "    y = [np.mean(node[n])for scen, node in dim_scen_node_scv.items()]\n",
    "    print(y)\n",
    "    \n",
    "    outcome_seeds_scen = [node[n] for scen, node in dim_scen_node_scv.items()]\n",
    "    mean = [np.mean(i) for i in outcome_seeds_scen]\n",
    "    std = [np.std(i)*100 for i in outcome_seeds_scen]\n",
    "    \n",
    "    #Add confidence interval\n",
    "    conf_seed = [st.t.interval(alpha=0.95, df=len(j)-1, loc=np.mean(j), scale=st.sem(j)) for j in outcome_seeds_scen]\n",
    "    min_interval = [interval[0]for interval in conf_seed]\n",
    "    max_interval = [min(100, interval[1]) for interval in conf_seed]\n",
    "        \n",
    "    min_error = [abs(i-j) for i,j in zip(min_interval, mean)]\n",
    "    max_error = [max(1, abs(i-j)*600) for i,j in zip(max_interval, mean)]\n",
    "        \n",
    "    if name == \"Retailer_Amsterdam\" or name == \"Wholesales_Distributor\" or name == \"Transit_Port\" or name == \"Import_Port_Rotterdam\" or name == \"Import_Port_Antwerpen\" or name == \"Export_Port\":\n",
    "        max_error = [min(100, abs(i-j)*600) for i,j in zip(max_interval, mean)]\n",
    "    \n",
    "    \n",
    "    total_error = [min_error, max_error]\n",
    "    \n",
    "    plt.scatter(x,y, label=n.title().replace(\"_\",\" \"), s=max_error, color = col, edgecolors=col, alpha=0.5)\n",
    "    print(n,max_error)\n",
    "\n",
    "    \n",
    "plt.legend(bbox_to_anchor=(1.04,1), loc=\"upper left\", fontsize=15)\n",
    "plt.ylabel(\"Supply Chain Visibility [%]\", fontsize = 14)\n",
    "plt.xticks(fontsize=14)\n",
    "plt.yticks(fontsize=14)\n"
   ]
  },
  {
   "cell_type": "markdown",
   "metadata": {
    "ExecuteTime": {
     "end_time": "2022-10-12T12:41:18.908994Z",
     "start_time": "2022-10-12T12:41:18.900961Z"
    }
   },
   "source": [
    "----------------------------------------------------------"
   ]
  },
  {
   "cell_type": "markdown",
   "metadata": {},
   "source": [
    "# Sensitivity - changing the values in the scenarios\n",
    "* Missing values for bad actors = 75%\n",
    "* We go only 5% up or down on supply or demand-oriented scenario"
   ]
  },
  {
   "cell_type": "code",
   "execution_count": 151,
   "metadata": {
    "ExecuteTime": {
     "end_time": "2022-10-06T09:27:23.220632Z",
     "start_time": "2022-10-06T09:27:23.196678Z"
    }
   },
   "outputs": [],
   "source": [
    "scenario_manufacturer_2_bad_noise = [0.1, 0.1, 0.95, 0.1, 0.1, 0.1, 0.1, 0.1, 0.1, 0.1, 0.1]\n",
    "scenario_transit_bad_noise = [0.1, 0.1, 0.1, 0.1, 0.95, 0.1, 0.1, 0.1, 0.1, 0.1, 0.1]\n",
    "\n",
    "scenario_supply_vision_noise = [0.1, 0.2, 0.2, 0.3, 0.4, 0.5, 0.5, 0.7, 0.8, 0.8, 0.8]\n",
    "scenario_demand_vision_noise = [0.8, 0.7, 0.7, 0.5, 0.4, 0.3, 0.3, 0.2, 0.1, 0.1, 0.1]\n",
    "\n",
    "scenario_manufacturer_2_bad_mv = [0.25, 0.25, 0.75, 0.25, 0.25, 0.25, 0.25, 0.25, 0.25, 0.25, 0.25]\n",
    "scenario_transit_bad_mv = [0.25, 0.25, 0.25, 0.25, 0.75, 0.25, 0.25, 0.25, 0.25, 0.25, 0.25]\n",
    "\n",
    "scenario_supply_vision_mv = [0.25, 0.30, 0.30, 0.35, 0.40, 0.45, 0.45, 0.50, 0.55, 0.55, 0.55]\n",
    "scenario_demand_vision_mv = [0.55, 0.50, 0.50, 0.45, 0.40, 0.40, 0.35, 0.30, 0.25, 0.25, 0.25]"
   ]
  },
  {
   "cell_type": "code",
   "execution_count": 152,
   "metadata": {
    "ExecuteTime": {
     "end_time": "2022-10-06T09:30:49.144927Z",
     "start_time": "2022-10-06T09:27:35.541674Z"
    }
   },
   "outputs": [
    {
     "name": "stdout",
     "output_type": "stream",
     "text": [
      "Mean Global SCV 73.52128121607647\n",
      "Mean Global SCV 72.63824225989214\n",
      "Mean Global SCV 63.64893652380906\n",
      "Mean Global SCV 51.48260657866171\n"
     ]
    }
   ],
   "source": [
    "names_supplychain = list(df_truemodel.columns)\n",
    "levels = [1, 2, 2, 3, 4, 5, 5, 6, 7, 7, 7]\n",
    "\n",
    "\n",
    "scenarios = [(scenario_manufacturer_2_bad_noise, scenario_manufacturer_2_bad_mv),\n",
    "            (scenario_transit_bad_noise, scenario_transit_bad_mv),\n",
    "            (scenario_supply_vision_noise, scenario_supply_vision_mv),\n",
    "            (scenario_demand_vision_noise, scenario_demand_vision_mv )]\n",
    "names_scenarios = [\"manufacturer_2_bad\", \"transit_bad\", \"supply_vision\", \"demand_vision\"]\n",
    "results_dim = {}\n",
    "\n",
    "for scen, name in zip(scenarios, names_scenarios):\n",
    "    results_dim[name] = {}\n",
    "    \n",
    "    seed_global_scv = []\n",
    "    results = defaultdict()\n",
    "        \n",
    "    for i in range(1,201):\n",
    "        degrade_df = degrade_data(df_truemodel, scen[0], \n",
    "                                      scen[1], seed = i)\n",
    "        global_scv, nodes = calculate_scv_scenarios(df_truemodel, degrade_df, names_supplychain, levels, seed=i)\n",
    "        seed_global_scv.append(global_scv)\n",
    "        results_seed = {\"global_scv\": global_scv,\n",
    "                        \"nodes\": nodes}\n",
    "        results[i] = results_seed\n",
    "        seed_global_scv.append(global_scv)\n",
    "        \n",
    "    results[\"list_scv_per_seed\"] = seed_global_scv\n",
    "    results[\"mean_global_scv\"] = np.mean(seed_global_scv)\n",
    "\n",
    "    results_dim[name] = results\n",
    "#         print(seed_global_scv)\n",
    "    print(\"Mean Global SCV\", np.mean(seed_global_scv))\n"
   ]
  },
  {
   "cell_type": "code",
   "execution_count": 12,
   "metadata": {
    "ExecuteTime": {
     "end_time": "2022-10-12T12:30:50.625703Z",
     "start_time": "2022-10-12T12:30:50.472973Z"
    }
   },
   "outputs": [
    {
     "data": {
      "image/png": "[encoded data removed]",
      "text/plain": [
       "<Figure size 720x360 with 1 Axes>"
      ]
     },
     "metadata": {
      "needs_background": "light"
     },
     "output_type": "display_data"
    }
   ],
   "source": [
    "colors=[\"gray\", \"darkblue\", \"deepskyblue\", \"purple\"]\n",
    "data_sparse_perc = [\"Manufacturer\", \"Transit\", \"Supply\", \"Demand\"]\n",
    "ticks = [1,2,3,4]\n",
    "#     mean = [np.mean(v[\"list_scv_per_seed\"]) for k,v in sparse_dict.items()]\n",
    "#     print(\"mean\", dim.title(), mean)\n",
    "    \n",
    "#     median = [np.median(v[\"list_scv_per_seed\"]) for k,v in sparse_dict.items()]\n",
    "#     print(\"median\", dim.title(), median)\n",
    "    \n",
    "plt.figure(figsize=(10,5))\n",
    "plt.grid()\n",
    "    \n",
    "outcome_seeds = [v[\"list_scv_per_seed\"] for k,v in results_dim.items()]\n",
    "\n",
    "list_mean = [np.mean(v[\"list_scv_per_seed\"]) for k,v in results_dim.items()]\n",
    "list_std = [np.std(j) for j in outcome_seeds]\n",
    "    \n",
    "plt.title(\"Scenarios\", fontsize = 18)\n",
    "    #plt.boxplot(outcome_seeds, medianprops=dict(color=col))\n",
    "plt.boxplot(outcome_seeds, medianprops=dict(color=\"black\")) #color = black\n",
    "#     stats = pd.DataFrame(boxplot_stats(outcome_seeds))\n",
    "#     stats[\"min_max\"] = stats[\"whishi\"] - stats[\"whislo\"]\n",
    "#     stats[\"steps_decrease\"] = stats[\"med\"].shift(1) - stats[\"med\"]\n",
    "#     print(dim.title(), stats)\n",
    "    #plt.plot(list(range(1, len(median)+1)), median)\n",
    "    \n",
    "    #Adds the scatter\n",
    "# for i in range(len(outcome_seeds)):\n",
    "#     y_scatter = outcome_seeds[i]\n",
    "#     x_scatter = np.random.normal(i + 1, 0.04, len(y_scatter))\n",
    "#     plt.scatter(x_scatter, y_scatter, color=col, alpha=0.1)\n",
    "    \n",
    "plt.xlabel(\"Percentage of Data Sparseness [%]\", fontsize = 14)\n",
    "plt.ylabel(\"Supply Chain Visibility [%]\", fontsize = 14)\n",
    "plt.xticks(ticks, data_sparse_perc, fontsize=12)\n",
    "plt.yticks(fontsize=12)\n",
    "plt.ylim((0,105))\n",
    "plt.show()"
   ]
  }
 ],
 "metadata": {
  "kernelspec": {
   "display_name": "Python 3",
   "language": "python",
   "name": "python3"
  },
  "language_info": {
   "codemirror_mode": {
    "name": "ipython",
    "version": 3
   },
   "file_extension": ".py",
   "mimetype": "text/x-python",
   "name": "python",
   "nbconvert_exporter": "python",
   "pygments_lexer": "ipython3",
   "version": "3.7.6"
  }
 },
 "nbformat": 4,
 "nbformat_minor": 4
}
